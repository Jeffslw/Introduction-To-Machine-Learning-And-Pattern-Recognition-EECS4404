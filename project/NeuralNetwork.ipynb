{
  "metadata": {
    "language_info": {
      "codemirror_mode": {
        "name": "python",
        "version": 3
      },
      "file_extension": ".py",
      "mimetype": "text/x-python",
      "name": "python",
      "nbconvert_exporter": "python",
      "pygments_lexer": "ipython3",
      "version": "3.8"
    },
    "kernelspec": {
      "name": "python",
      "display_name": "Python (Pyodide)",
      "language": "python"
    }
  },
  "nbformat_minor": 4,
  "nbformat": 4,
  "cells": [
    {
      "cell_type": "code",
      "source": "import pandas as pd\nfrom sklearn.feature_extraction.text import TfidfVectorizer\nfrom sklearn.model_selection import train_test_split\nfrom sklearn.neural_network import MLPClassifier\nfrom sklearn.metrics import accuracy_score, classification_report\n\n# Load the original dataset\ndata = pd.read_csv('shuffled_redditinput.csv')\nX = data['text']\ny = data['emotion']\n\n# Preprocess the data using TfidfVectorizer\nvectorizer = TfidfVectorizer(stop_words='english')\nX_vectorized = vectorizer.fit_transform(X)\n\n# Split the data into training and testing sets\nX_train, X_test, y_train, y_test = train_test_split(X_vectorized, y, test_size=0.2, random_state=42)\n\n# Train the neural network model\nnn_clf = MLPClassifier(hidden_layer_sizes=(100,), random_state=42)\nnn_clf.fit(X_train, y_train)\n\n# Evaluate the model on the test set\ny_test_pred = nn_clf.predict(X_test)\naccuracy = accuracy_score(y_test, y_test_pred)\nprint(f\"Accuracy: {accuracy:.2f}\")\nprint(\"Classification report:\\n\", classification_report(y_test, y_test_pred))\n\n# Load the new dataset\nnew_data = pd.read_csv('shuffled_tweetspredit.csv')\nX_new = new_data['text']\n\n# Preprocess the new text data using the same TfidfVectorizer\nX_new_vectorized = vectorizer.transform(X_new)\n\n# Make predictions on the new dataset\ny_new_pred = nn_clf.predict(X_new_vectorized)\n\n# Load the true labels (emotions) for the new dataset\ny_new_true = new_data['emotion']\n\n# Calculate the accuracy\naccuracy = accuracy_score(y_new_true, y_new_pred)\nprint(f\"Accuracy: {accuracy:.2f}\")\n\n# Generate a classification report\nreport = classification_report(y_new_true, y_new_pred)\nprint(\"Classification report:\\n\", report)",
      "metadata": {
        "trusted": true
      },
      "execution_count": 4,
      "outputs": [
        {
          "name": "stderr",
          "text": "/lib/python3.10/site-packages/sklearn/neural_network/_multilayer_perceptron.py:679: ConvergenceWarning: Stochastic Optimizer: Maximum iterations (200) reached and the optimization hasn't converged yet.\n  warnings.warn(\n",
          "output_type": "stream"
        },
        {
          "name": "stdout",
          "text": "Accuracy: 0.58\nClassification report:\n               precision    recall  f1-score   support\n\n       angry       0.56      0.59      0.58      1649\n     disgust       0.41      0.34      0.37      1044\n        fear       0.51      0.49      0.50       636\n       happy       0.74      0.70      0.72      1579\n         sad       0.59      0.61      0.60      1376\n    surprise       0.56      0.63      0.59      1084\n\n    accuracy                           0.58      7368\n   macro avg       0.56      0.56      0.56      7368\nweighted avg       0.58      0.58      0.58      7368\n\nAccuracy: 0.51\nClassification report:\n               precision    recall  f1-score   support\n\n       angry       0.39      0.55      0.46        20\n     disgust       0.68      0.65      0.67        20\n        fear       0.67      0.19      0.30        21\n       happy       0.52      0.65      0.58        20\n         sad       0.55      0.60      0.57        20\n    surprise       0.43      0.45      0.44        20\n\n    accuracy                           0.51       121\n   macro avg       0.54      0.52      0.50       121\nweighted avg       0.54      0.51      0.50       121\n\n",
          "output_type": "stream"
        }
      ]
    },
    {
      "cell_type": "code",
      "source": "",
      "metadata": {},
      "execution_count": null,
      "outputs": []
    }
  ]
}